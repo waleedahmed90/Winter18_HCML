{
 "cells": [
  {
   "cell_type": "code",
   "execution_count": 1,
   "metadata": {},
   "outputs": [
    {
     "data": {
      "text/plain": [
       "<Figure size 432x288 with 0 Axes>"
      ]
     },
     "metadata": {},
     "output_type": "display_data"
    }
   ],
   "source": [
    "%matplotlib inline\n",
    "from matplotlib import pyplot as plt\n",
    "import seaborn as sns\n",
    "import numpy as np\n",
    "import pandas as pd\n",
    "import multiprocessing as MP\n",
    "\n",
    "np.set_printoptions(suppress=True, precision=3)\n",
    "\n",
    "sns.set(style='ticks', palette='Set2')\n",
    "sns.despine()"
   ]
  },
  {
   "cell_type": "code",
   "execution_count": null,
   "metadata": {},
   "outputs": [],
   "source": []
  },
  {
   "cell_type": "code",
   "execution_count": 2,
   "metadata": {},
   "outputs": [
    {
     "name": "stderr",
     "output_type": "stream",
     "text": [
      "/Users/musically_ut/prog/work/hcml-assgn-2/opt_runs.py:19: UserWarning: broadcast.opt.optimizer was NOT imported. Comparison against method of Karimi et. al. method will not be possible.\n",
      "  warnings.warn('broadcast.opt.optimizer was NOT imported. '\n"
     ]
    }
   ],
   "source": [
    "import utils as U\n",
    "import opt_runs as OR\n",
    "import opt_model as OM\n",
    "import decorated_options as Deco"
   ]
  },
  {
   "cell_type": "code",
   "execution_count": 3,
   "metadata": {},
   "outputs": [],
   "source": [
    "from importlib import reload"
   ]
  },
  {
   "cell_type": "code",
   "execution_count": 4,
   "metadata": {},
   "outputs": [
    {
     "data": {
      "text/plain": [
       "<module 'opt_model_soln' from '/Users/musically_ut/prog/work/hcml-assgn-2/opt_model_soln.py'>"
      ]
     },
     "execution_count": 4,
     "metadata": {},
     "output_type": "execute_result"
    }
   ],
   "source": [
    "reload(OM)"
   ]
  },
  {
   "cell_type": "code",
   "execution_count": null,
   "metadata": {},
   "outputs": [],
   "source": []
  },
  {
   "cell_type": "code",
   "execution_count": null,
   "metadata": {},
   "outputs": [],
   "source": []
  },
  {
   "cell_type": "markdown",
   "metadata": {
    "collapsed": true
   },
   "source": [
    "# Step 1: Create a SimOpts which will generate raw data"
   ]
  },
  {
   "cell_type": "code",
   "execution_count": 5,
   "metadata": {},
   "outputs": [],
   "source": [
    "src_id = 0\n",
    "\n",
    "sim_opts_1_follower = OM.SimOpts(\n",
    "    s=np.asarray([1.0]),\n",
    "    q=1.0,\n",
    "    end_time=100,\n",
    "    \n",
    "    src_id=src_id,\n",
    "    other_sources=[\n",
    "        (\n",
    "            'Poisson', \n",
    "             {\n",
    "                  'src_id': 1,\n",
    "                  'seed': 10016,\n",
    "                  'rate': 1.0\n",
    "             }\n",
    "        )\n",
    "    ],\n",
    "    sink_ids=[1000],\n",
    "    edge_list=[(0, 1000), (1, 1000)]\n",
    ")"
   ]
  },
  {
   "cell_type": "code",
   "execution_count": 6,
   "metadata": {},
   "outputs": [
    {
     "name": "stdout",
     "output_type": "stream",
     "text": [
      "101 is the number of events posted by source with src_id = 1.\n"
     ]
    }
   ],
   "source": [
    "wall_mgr = sim_opts_1_follower.create_manager_for_wall()\n",
    "\n",
    "wall_mgr.run_dynamic()\n",
    "\n",
    "wall_df = wall_mgr.state.get_dataframe()\n",
    "num_world_events = wall_df[wall_df.src_id == 1].event_id.nunique()\n",
    "\n",
    "print('{} is the number of events posted by source with src_id = 1.'\n",
    "      .format(num_world_events))"
   ]
  },
  {
   "cell_type": "code",
   "execution_count": null,
   "metadata": {},
   "outputs": [],
   "source": []
  },
  {
   "cell_type": "code",
   "execution_count": null,
   "metadata": {},
   "outputs": [],
   "source": []
  },
  {
   "cell_type": "markdown",
   "metadata": {
    "collapsed": true
   },
   "source": [
    "# Step 2: Simulate the walls along with different strategies for our broadcaster"
   ]
  },
  {
   "cell_type": "code",
   "execution_count": null,
   "metadata": {},
   "outputs": [],
   "source": []
  },
  {
   "cell_type": "markdown",
   "metadata": {},
   "source": [
    "### RedQueen"
   ]
  },
  {
   "cell_type": "code",
   "execution_count": 7,
   "metadata": {},
   "outputs": [
    {
     "name": "stdout",
     "output_type": "stream",
     "text": [
      "CPU times: user 3 µs, sys: 0 ns, total: 3 µs\n",
      "Wall time: 7.15 µs\n"
     ]
    }
   ],
   "source": [
    "%%time\n",
    "\n",
    "# Single-core version\n",
    "\n",
    "# opt_performance = []\n",
    "# for seed in range(1, 101):\n",
    "#     opt_mgr = sim_opts_1_follower.create_manager_with_opt(seed)\n",
    "#     opt_mgr.run_dynamic()\n",
    "#     opt_df = opt_mgr.state.get_dataframe()\n",
    "#     num_opt_tweets = U.num_tweets_of(opt_df, broadcaster_id=src_id)\n",
    "#     perf = {\n",
    "#         'type': 'Opt',\n",
    "#         'seed': seed,\n",
    "#     }\n",
    "#     OR.add_perf(perf, opt_df, sim_opts_1_follower)\n",
    "#     opt_performance.append(perf)\n",
    "    \n",
    "# perf_opt = opt_performance[0]\n",
    "# opt_perf_df = pd.DataFrame(opt_performance)\n",
    "# mean_num_opt_tweets = opt_perf_df.num_events.mean()"
   ]
  },
  {
   "cell_type": "code",
   "execution_count": 8,
   "metadata": {},
   "outputs": [
    {
     "name": "stdout",
     "output_type": "stream",
     "text": [
      "CPU times: user 82.3 ms, sys: 37.7 ms, total: 120 ms\n",
      "Wall time: 5.95 s\n"
     ]
    }
   ],
   "source": [
    "%%time\n",
    "\n",
    "opt_performance = []\n",
    "\n",
    "def _worker_opt(seed, return_df=False):\n",
    "    opt_mgr = sim_opts_1_follower.create_manager_with_opt(seed)\n",
    "    opt_mgr.run_dynamic()\n",
    "    opt_df = opt_mgr.state.get_dataframe()\n",
    "    num_opt_tweets = U.num_tweets_of(opt_df, broadcaster_id=src_id)\n",
    "    perf = {\n",
    "        'type': 'Opt',\n",
    "        'seed': seed,\n",
    "    }\n",
    "    OR.add_perf(perf, opt_df, sim_opts_1_follower)\n",
    "    \n",
    "    if return_df:\n",
    "        return perf, opt_df\n",
    "    else:\n",
    "        return perf\n",
    "\n",
    "with MP.Pool() as pool:\n",
    "    opt_performance = pool.map(_worker_opt, range(2, 202))\n",
    "    \n",
    "perf_opt, opt_df = _worker_opt(seed=1, return_df=True)\n",
    "opt_perf_df = pd.DataFrame(opt_performance)\n",
    "mean_num_opt_tweets = opt_perf_df.num_events.mean()"
   ]
  },
  {
   "cell_type": "code",
   "execution_count": 9,
   "metadata": {},
   "outputs": [
    {
     "data": {
      "text/plain": [
       "{'type': 'Opt',\n",
       " 'seed': 1,\n",
       " 'top_1': 54.945299729180896,\n",
       " 'avg_rank': 57.257560203959684,\n",
       " 'r_2': 85.06468362839678,\n",
       " 'world_events': 101,\n",
       " 'num_events': 62}"
      ]
     },
     "execution_count": 9,
     "metadata": {},
     "output_type": "execute_result"
    }
   ],
   "source": [
    "perf_opt"
   ]
  },
  {
   "cell_type": "code",
   "execution_count": null,
   "metadata": {},
   "outputs": [],
   "source": []
  },
  {
   "cell_type": "markdown",
   "metadata": {},
   "source": [
    "### Poisson"
   ]
  },
  {
   "cell_type": "code",
   "execution_count": 10,
   "metadata": {},
   "outputs": [
    {
     "name": "stdout",
     "output_type": "stream",
     "text": [
      "CPU times: user 2 µs, sys: 0 ns, total: 2 µs\n",
      "Wall time: 6.2 µs\n"
     ]
    }
   ],
   "source": [
    "%%time\n",
    "\n",
    "# Single core version\n",
    "# poisson_performance = []\n",
    "# for seed in range(1, 101):\n",
    "#     poisson_mgr = sim_opts_1_follower.create_manager_with_poisson(seed, capacity=mean_num_opt_tweets)\n",
    "#     poisson_mgr.run_dynamic()\n",
    "#     poisson_df = poisson_mgr.state.get_dataframe()\n",
    "#     num_poisson_tweets = U.num_tweets_of(poisson_df, broadcaster_id=src_id)\n",
    "#     perf = {\n",
    "#         'type': 'Poisson',\n",
    "#         'seed': seed,\n",
    "#     }\n",
    "#     OR.add_perf(perf, poisson_df, sim_opts_1_follower)\n",
    "#     poisson_performance.append(perf)\n",
    "    \n",
    "# perf_poisson = poisson_performance[17]\n",
    "# poisson_perf_df = pd.DataFrame(poisson_performance)"
   ]
  },
  {
   "cell_type": "code",
   "execution_count": 11,
   "metadata": {},
   "outputs": [
    {
     "name": "stdout",
     "output_type": "stream",
     "text": [
      "CPU times: user 68.9 ms, sys: 35.5 ms, total: 104 ms\n",
      "Wall time: 5.73 s\n"
     ]
    }
   ],
   "source": [
    "%%time\n",
    "\n",
    "def _worker_poisson(seed, return_df=False):\n",
    "    poisson_mgr = sim_opts_1_follower.create_manager_with_poisson(seed, capacity=mean_num_opt_tweets)\n",
    "    poisson_mgr.run_dynamic()\n",
    "    poisson_df = poisson_mgr.state.get_dataframe()\n",
    "    num_poisson_tweets = U.num_tweets_of(poisson_df, broadcaster_id=src_id)\n",
    "    perf = {\n",
    "        'type': 'Poisson',\n",
    "        'seed': seed,\n",
    "    }\n",
    "    OR.add_perf(perf, poisson_df, sim_opts_1_follower)\n",
    "    \n",
    "    if return_df:\n",
    "        return perf, poisson_df\n",
    "    else:\n",
    "        return perf\n",
    "\n",
    "with MP.Pool() as pool:\n",
    "    poisson_performance = pool.map(_worker_poisson, range(2, 202))\n",
    "    \n",
    "perf_poisson, poisson_df = _worker_poisson(seed=1, return_df=True)\n",
    "poisson_perf_df = pd.DataFrame(poisson_performance)"
   ]
  },
  {
   "cell_type": "code",
   "execution_count": 12,
   "metadata": {},
   "outputs": [
    {
     "data": {
      "text/plain": [
       "{'type': 'Poisson',\n",
       " 'seed': 1,\n",
       " 'top_1': 37.49929516636634,\n",
       " 'avg_rank': 154.01954062930275,\n",
       " 'r_2': 530.3211806270317,\n",
       " 'world_events': 101,\n",
       " 'num_events': 59}"
      ]
     },
     "execution_count": 12,
     "metadata": {},
     "output_type": "execute_result"
    }
   ],
   "source": [
    "perf_poisson"
   ]
  },
  {
   "cell_type": "code",
   "execution_count": null,
   "metadata": {},
   "outputs": [],
   "source": []
  },
  {
   "cell_type": "markdown",
   "metadata": {},
   "source": [
    "### Smart Poisson"
   ]
  },
  {
   "cell_type": "code",
   "execution_count": null,
   "metadata": {},
   "outputs": [],
   "source": []
  },
  {
   "cell_type": "code",
   "execution_count": 13,
   "metadata": {},
   "outputs": [],
   "source": [
    "# %%time\n",
    "\n",
    "# Single core version\n",
    "\n",
    "# smart_performance = []\n",
    "\n",
    "# for seed in range(1, 101):\n",
    "#     T = sim_opts_1_follower.end_time\n",
    "\n",
    "#     rate = mean_num_opt_tweets / non_zero_time_interval\n",
    "#     sp_mgr = sim_opts_1_follower.create_manager_with_smart_poisson(\n",
    "#         seed,\n",
    "#         rate=rate\n",
    "#     )\n",
    "\n",
    "#     sp_mgr.run_dynamic()\n",
    "#     sp_df = sp_mgr.state.get_dataframe()\n",
    "#     num_sp_tweets = U.num_tweets_of(sp_df, broadcaster_id=src_id)\n",
    "#     perf = {\n",
    "#         'type': 'Smart Poisson',\n",
    "#         'seed': seed,\n",
    "#     }\n",
    "#     OR.add_perf(perf, sp_df, sim_opts_1_follower)\n",
    "#     smart_performance.append(perf)\n",
    "    \n",
    "# perf_sp = smart_performance[74]\n",
    "# smart_perf_df = pd.DataFrame(smart_performance)"
   ]
  },
  {
   "cell_type": "code",
   "execution_count": 14,
   "metadata": {},
   "outputs": [
    {
     "name": "stdout",
     "output_type": "stream",
     "text": [
      "CPU times: user 81.7 ms, sys: 33.1 ms, total: 115 ms\n",
      "Wall time: 6.36 s\n"
     ]
    }
   ],
   "source": [
    "%%time\n",
    "\n",
    "def _worker_smart_poisson(seed, return_df=False):\n",
    "    T = sim_opts_1_follower.end_time\n",
    "\n",
    "    rate = (mean_num_opt_tweets - 1) * (num_world_events / T) / (num_world_events - mean_num_opt_tweets + 1)   # Heuristic\n",
    "    sp_mgr = sim_opts_1_follower.create_manager_with_smart_poisson(\n",
    "        seed,\n",
    "        rate=rate\n",
    "    )\n",
    "\n",
    "    sp_mgr.run_dynamic()\n",
    "    sp_df = sp_mgr.state.get_dataframe()\n",
    "    num_sp_tweets = U.num_tweets_of(sp_df, broadcaster_id=src_id)\n",
    "    perf = {\n",
    "        'type': 'Smart Poisson',\n",
    "        'seed': seed,\n",
    "    }\n",
    "    OR.add_perf(perf, sp_df, sim_opts_1_follower)\n",
    "    \n",
    "    if return_df:\n",
    "        return perf, sp_df\n",
    "    else:\n",
    "        return perf\n",
    "\n",
    "with MP.Pool() as pool:\n",
    "    smart_performance = pool.map(_worker_smart_poisson, range(2, 202))\n",
    "    \n",
    "perf_sp, sp_df = _worker_smart_poisson(seed=1, return_df=True)\n",
    "smart_perf_df = pd.DataFrame(smart_performance)"
   ]
  },
  {
   "cell_type": "code",
   "execution_count": 15,
   "metadata": {},
   "outputs": [
    {
     "data": {
      "text/plain": [
       "{'type': 'Smart Poisson',\n",
       " 'seed': 1,\n",
       " 'top_1': 60.677245112368325,\n",
       " 'avg_rank': 58.77660174039865,\n",
       " 'r_2': 119.9648295407712,\n",
       " 'world_events': 101,\n",
       " 'num_events': 68}"
      ]
     },
     "execution_count": 15,
     "metadata": {},
     "output_type": "execute_result"
    }
   ],
   "source": [
    "perf_sp"
   ]
  },
  {
   "cell_type": "code",
   "execution_count": null,
   "metadata": {},
   "outputs": [],
   "source": []
  },
  {
   "cell_type": "code",
   "execution_count": null,
   "metadata": {},
   "outputs": [],
   "source": []
  },
  {
   "cell_type": "markdown",
   "metadata": {},
   "source": [
    "## Sanity Check: Number of events"
   ]
  },
  {
   "cell_type": "code",
   "execution_count": 16,
   "metadata": {},
   "outputs": [
    {
     "data": {
      "image/png": "[encoded data removed]",
      "text/plain": [
       "<Figure size 432x288 with 1 Axes>"
      ]
     },
     "metadata": {
      "needs_background": "light"
     },
     "output_type": "display_data"
    }
   ],
   "source": [
    "plt.boxplot([smart_perf_df.num_events, opt_perf_df.num_events, poisson_perf_df.num_events])\n",
    "plt.xticks([1, 2, 3], ['Smart Poisson', 'RedQueen', 'Poisson'])\n",
    "plt.ylabel('Mean number of posts')\n",
    "sns.despine()"
   ]
  },
  {
   "cell_type": "code",
   "execution_count": null,
   "metadata": {},
   "outputs": [],
   "source": []
  },
  {
   "cell_type": "code",
   "execution_count": null,
   "metadata": {},
   "outputs": [],
   "source": []
  },
  {
   "cell_type": "code",
   "execution_count": null,
   "metadata": {},
   "outputs": [],
   "source": []
  },
  {
   "cell_type": "markdown",
   "metadata": {
    "collapsed": true
   },
   "source": [
    "# Step 3: Study the performance"
   ]
  },
  {
   "cell_type": "code",
   "execution_count": 17,
   "metadata": {},
   "outputs": [
    {
     "name": "stdout",
     "output_type": "stream",
     "text": [
      "num_opt_tweets = 62.0, num_poisson_tweets = 59.0\n"
     ]
    }
   ],
   "source": [
    "print('num_opt_tweets = {}, num_poisson_tweets = {}'\n",
    "      .format(U.num_tweets_of(opt_df, 0), U.num_tweets_of(poisson_df, 0)))"
   ]
  },
  {
   "cell_type": "code",
   "execution_count": null,
   "metadata": {},
   "outputs": [],
   "source": []
  },
  {
   "cell_type": "code",
   "execution_count": 18,
   "metadata": {},
   "outputs": [
    {
     "name": "stdout",
     "output_type": "stream",
     "text": [
      "avg_rank_opt = 57.257560203959684, avg_rank_poisson = 154.01954062930275\n"
     ]
    }
   ],
   "source": [
    "print('avg_rank_opt = {}, avg_rank_poisson = {}'\n",
    "      .format(U.average_rank(opt_df, sim_opts=sim_opts_1_follower), \n",
    "              U.average_rank(poisson_df, sim_opts=sim_opts_1_follower)))"
   ]
  },
  {
   "cell_type": "code",
   "execution_count": null,
   "metadata": {},
   "outputs": [],
   "source": []
  },
  {
   "cell_type": "code",
   "execution_count": 19,
   "metadata": {},
   "outputs": [
    {
     "name": "stdout",
     "output_type": "stream",
     "text": [
      "Time spent in the top-1 by Redqueen = 54.945299729180896 and Poisson = 37.49929516636634\n"
     ]
    }
   ],
   "source": [
    "K = 1\n",
    "print('Time spent in the top-{} by Redqueen = {} and Poisson = {}'\n",
    "      .format(K, \n",
    "              U.time_in_top_k(opt_df, K=K, sim_opts=sim_opts_1_follower),\n",
    "              U.time_in_top_k(poisson_df, K=K, sim_opts=sim_opts_1_follower)))"
   ]
  },
  {
   "cell_type": "code",
   "execution_count": null,
   "metadata": {},
   "outputs": [],
   "source": []
  },
  {
   "cell_type": "markdown",
   "metadata": {},
   "source": [
    "### Plot evolution"
   ]
  },
  {
   "cell_type": "code",
   "execution_count": null,
   "metadata": {},
   "outputs": [],
   "source": []
  },
  {
   "cell_type": "code",
   "execution_count": 20,
   "metadata": {},
   "outputs": [],
   "source": [
    "def plot_rank_evolution(df, src_id):\n",
    "    # plt.figure(figsize=(8,6))\n",
    "    \n",
    "    c1, c2 = sns.color_palette(n_colors=2)\n",
    "\n",
    "    ranks = U.rank_of_src_in_df(df, src_id).mean(axis=1)\n",
    "    \n",
    "    fig, ax1 = plt.subplots()\n",
    "    \n",
    "    ax1.fill_between(ranks.index, ranks.values, step='post',\n",
    "                     color=c1, label=r'$\\bar{r}(t)$', alpha=0.5)\n",
    "    \n",
    "    ax1.set_ylabel('Rank')\n",
    "    ax1.set_xlabel('Time')\n",
    "    ax1.tick_params('y', colors=c1)\n",
    "    ax1.set_ylim(0)\n",
    "    \n",
    "    tweet_times = df[(df.src_id == src_id)].t.unique()\n",
    "    num_tweets = tweet_times.shape[0]\n",
    "    \n",
    "    ax2 = ax1.twinx()\n",
    "    ax2.step(tweet_times, np.arange(num_tweets),\n",
    "             label='$N(t)$', color=c2, linewidth=1.0)\n",
    "    \n",
    "    ax2.set_ylabel('Tweets')\n",
    "    ax2.tick_params('y', colors=c2)\n",
    "    ax2.set_ylim(0)\n",
    "    \n",
    "    plt.tight_layout()"
   ]
  },
  {
   "cell_type": "code",
   "execution_count": null,
   "metadata": {},
   "outputs": [],
   "source": []
  },
  {
   "cell_type": "code",
   "execution_count": 21,
   "metadata": {},
   "outputs": [
    {
     "data": {
      "image/png": "[encoded data removed]",
      "text/plain": [
       "<Figure size 432x288 with 2 Axes>"
      ]
     },
     "metadata": {},
     "output_type": "display_data"
    }
   ],
   "source": [
    "plot_rank_evolution(opt_df, src_id)"
   ]
  },
  {
   "cell_type": "code",
   "execution_count": 22,
   "metadata": {},
   "outputs": [
    {
     "data": {
      "image/png": "[encoded data removed]",
      "text/plain": [
       "<Figure size 432x288 with 2 Axes>"
      ]
     },
     "metadata": {},
     "output_type": "display_data"
    }
   ],
   "source": [
    "plot_rank_evolution(sp_df, src_id)"
   ]
  },
  {
   "cell_type": "code",
   "execution_count": 23,
   "metadata": {},
   "outputs": [
    {
     "data": {
      "image/png": "[encoded data removed]",
      "text/plain": [
       "<Figure size 432x288 with 2 Axes>"
      ]
     },
     "metadata": {},
     "output_type": "display_data"
    }
   ],
   "source": [
    "plot_rank_evolution(poisson_df, src_id)"
   ]
  },
  {
   "cell_type": "code",
   "execution_count": null,
   "metadata": {},
   "outputs": [],
   "source": []
  },
  {
   "cell_type": "code",
   "execution_count": 24,
   "metadata": {},
   "outputs": [],
   "source": [
    "def plot_top_k_evolution(df, src_id, K=1, T=100, ymax=None):\n",
    "    # plt.figure(figsize=(8,6))\n",
    "    \n",
    "    c1, c2 = sns.color_palette(n_colors=2)\n",
    "\n",
    "    top_k = (U.rank_of_src_in_df(df, src_id) < K).mean(axis=1)\n",
    "    \n",
    "    times = np.asarray([0] + top_k.index.values.tolist() + [T])\n",
    "    t_diff = np.diff(times)\n",
    "    top_k_indicator = np.array([0] + top_k.values.tolist())\n",
    "\n",
    "    fig, ax1 = plt.subplots()    \n",
    "\n",
    "    ax1.fill_between(times[:-1], np.cumsum(top_k_indicator * t_diff), step='post',\n",
    "                     color=c1, label=r'$1_{[r(t) <= %d]}$' % K,\n",
    "                     alpha=0.5)\n",
    "    \n",
    "    ax1.set_ylabel('Time in Top-{}'.format(K))\n",
    "    ax1.set_xlabel('Time')\n",
    "    ax1.tick_params('y', colors=c1)\n",
    "    \n",
    "    if ymax is None:\n",
    "        ax1.set_ylim(0)\n",
    "    else:\n",
    "        ax1.set_ylim(0, ymax)\n",
    "    \n",
    "    tweet_times = df[(df.src_id == src_id)].t.unique()\n",
    "    num_tweets = tweet_times.shape[0]\n",
    "    \n",
    "    ax2 = ax1.twinx()\n",
    "    # plt.vlines(tweet_times[one_month_df] * 60 / 10000, ymin=0, ymax=1200, color=c2, linewidth=0.5)\n",
    "    ax2.step(tweet_times, np.arange(num_tweets),\n",
    "             label='$N(t)$', color=c2, linewidth=1.0)\n",
    "    \n",
    "    ax2.set_ylabel('Tweets')\n",
    "    ax2.tick_params('y', colors=c2)\n",
    "    ax2.set_ylim(0)\n",
    "    \n",
    "    plt.tight_layout()"
   ]
  },
  {
   "cell_type": "code",
   "execution_count": 25,
   "metadata": {},
   "outputs": [
    {
     "data": {
      "image/png": "[encoded data removed]",
      "text/plain": [
       "<Figure size 432x288 with 2 Axes>"
      ]
     },
     "metadata": {},
     "output_type": "display_data"
    }
   ],
   "source": [
    "plot_top_k_evolution(opt_df, src_id, ymax=60)"
   ]
  },
  {
   "cell_type": "code",
   "execution_count": 26,
   "metadata": {},
   "outputs": [
    {
     "data": {
      "image/png": "[encoded data removed]",
      "text/plain": [
       "<Figure size 432x288 with 2 Axes>"
      ]
     },
     "metadata": {},
     "output_type": "display_data"
    }
   ],
   "source": [
    "plot_top_k_evolution(sp_df, src_id, ymax=60)"
   ]
  },
  {
   "cell_type": "code",
   "execution_count": 27,
   "metadata": {},
   "outputs": [
    {
     "data": {
      "image/png": "[encoded data removed]",
      "text/plain": [
       "<Figure size 432x288 with 2 Axes>"
      ]
     },
     "metadata": {},
     "output_type": "display_data"
    }
   ],
   "source": [
    "plot_top_k_evolution(poisson_df, src_id, ymax=60)"
   ]
  },
  {
   "cell_type": "code",
   "execution_count": null,
   "metadata": {},
   "outputs": [],
   "source": []
  },
  {
   "cell_type": "code",
   "execution_count": null,
   "metadata": {},
   "outputs": [],
   "source": []
  },
  {
   "cell_type": "markdown",
   "metadata": {
    "collapsed": true
   },
   "source": [
    "# Average performance"
   ]
  },
  {
   "cell_type": "code",
   "execution_count": null,
   "metadata": {},
   "outputs": [],
   "source": []
  },
  {
   "cell_type": "code",
   "execution_count": 28,
   "metadata": {},
   "outputs": [
    {
     "data": {
      "text/html": [
       "<div>\n",
       "<style scoped>\n",
       "    .dataframe tbody tr th:only-of-type {\n",
       "        vertical-align: middle;\n",
       "    }\n",
       "\n",
       "    .dataframe tbody tr th {\n",
       "        vertical-align: top;\n",
       "    }\n",
       "\n",
       "    .dataframe thead th {\n",
       "        text-align: right;\n",
       "    }\n",
       "</style>\n",
       "<table border=\"1\" class=\"dataframe\">\n",
       "  <thead>\n",
       "    <tr style=\"text-align: right;\">\n",
       "      <th></th>\n",
       "      <th>avg_rank</th>\n",
       "      <th>num_events</th>\n",
       "      <th>r_2</th>\n",
       "      <th>seed</th>\n",
       "      <th>top_1</th>\n",
       "      <th>world_events</th>\n",
       "    </tr>\n",
       "  </thead>\n",
       "  <tbody>\n",
       "    <tr>\n",
       "      <th>count</th>\n",
       "      <td>200.000000</td>\n",
       "      <td>200.000000</td>\n",
       "      <td>200.000000</td>\n",
       "      <td>200.000000</td>\n",
       "      <td>200.000000</td>\n",
       "      <td>200.0</td>\n",
       "    </tr>\n",
       "    <tr>\n",
       "      <th>mean</th>\n",
       "      <td>155.932477</td>\n",
       "      <td>61.225000</td>\n",
       "      <td>571.031466</td>\n",
       "      <td>101.500000</td>\n",
       "      <td>35.225770</td>\n",
       "      <td>101.0</td>\n",
       "    </tr>\n",
       "    <tr>\n",
       "      <th>std</th>\n",
       "      <td>28.594674</td>\n",
       "      <td>7.966284</td>\n",
       "      <td>226.562396</td>\n",
       "      <td>57.879185</td>\n",
       "      <td>4.536139</td>\n",
       "      <td>0.0</td>\n",
       "    </tr>\n",
       "    <tr>\n",
       "      <th>min</th>\n",
       "      <td>99.354043</td>\n",
       "      <td>42.000000</td>\n",
       "      <td>254.188284</td>\n",
       "      <td>2.000000</td>\n",
       "      <td>23.853671</td>\n",
       "      <td>101.0</td>\n",
       "    </tr>\n",
       "    <tr>\n",
       "      <th>25%</th>\n",
       "      <td>135.165892</td>\n",
       "      <td>56.000000</td>\n",
       "      <td>414.117484</td>\n",
       "      <td>51.750000</td>\n",
       "      <td>32.154930</td>\n",
       "      <td>101.0</td>\n",
       "    </tr>\n",
       "    <tr>\n",
       "      <th>50%</th>\n",
       "      <td>152.555862</td>\n",
       "      <td>61.000000</td>\n",
       "      <td>532.836052</td>\n",
       "      <td>101.500000</td>\n",
       "      <td>35.214029</td>\n",
       "      <td>101.0</td>\n",
       "    </tr>\n",
       "    <tr>\n",
       "      <th>75%</th>\n",
       "      <td>170.953026</td>\n",
       "      <td>67.000000</td>\n",
       "      <td>643.157676</td>\n",
       "      <td>151.250000</td>\n",
       "      <td>38.346952</td>\n",
       "      <td>101.0</td>\n",
       "    </tr>\n",
       "    <tr>\n",
       "      <th>max</th>\n",
       "      <td>255.064382</td>\n",
       "      <td>85.000000</td>\n",
       "      <td>1406.766923</td>\n",
       "      <td>201.000000</td>\n",
       "      <td>46.199658</td>\n",
       "      <td>101.0</td>\n",
       "    </tr>\n",
       "  </tbody>\n",
       "</table>\n",
       "</div>"
      ],
      "text/plain": [
       "         avg_rank  num_events          r_2        seed       top_1  \\\n",
       "count  200.000000  200.000000   200.000000  200.000000  200.000000   \n",
       "mean   155.932477   61.225000   571.031466  101.500000   35.225770   \n",
       "std     28.594674    7.966284   226.562396   57.879185    4.536139   \n",
       "min     99.354043   42.000000   254.188284    2.000000   23.853671   \n",
       "25%    135.165892   56.000000   414.117484   51.750000   32.154930   \n",
       "50%    152.555862   61.000000   532.836052  101.500000   35.214029   \n",
       "75%    170.953026   67.000000   643.157676  151.250000   38.346952   \n",
       "max    255.064382   85.000000  1406.766923  201.000000   46.199658   \n",
       "\n",
       "       world_events  \n",
       "count         200.0  \n",
       "mean          101.0  \n",
       "std             0.0  \n",
       "min           101.0  \n",
       "25%           101.0  \n",
       "50%           101.0  \n",
       "75%           101.0  \n",
       "max           101.0  "
      ]
     },
     "execution_count": 28,
     "metadata": {},
     "output_type": "execute_result"
    }
   ],
   "source": [
    "poisson_perf_df.describe()"
   ]
  },
  {
   "cell_type": "code",
   "execution_count": null,
   "metadata": {},
   "outputs": [],
   "source": []
  },
  {
   "cell_type": "code",
   "execution_count": 29,
   "metadata": {},
   "outputs": [
    {
     "data": {
      "text/html": [
       "<div>\n",
       "<style scoped>\n",
       "    .dataframe tbody tr th:only-of-type {\n",
       "        vertical-align: middle;\n",
       "    }\n",
       "\n",
       "    .dataframe tbody tr th {\n",
       "        vertical-align: top;\n",
       "    }\n",
       "\n",
       "    .dataframe thead th {\n",
       "        text-align: right;\n",
       "    }\n",
       "</style>\n",
       "<table border=\"1\" class=\"dataframe\">\n",
       "  <thead>\n",
       "    <tr style=\"text-align: right;\">\n",
       "      <th></th>\n",
       "      <th>avg_rank</th>\n",
       "      <th>num_events</th>\n",
       "      <th>r_2</th>\n",
       "      <th>seed</th>\n",
       "      <th>top_1</th>\n",
       "      <th>world_events</th>\n",
       "    </tr>\n",
       "  </thead>\n",
       "  <tbody>\n",
       "    <tr>\n",
       "      <th>count</th>\n",
       "      <td>200.000000</td>\n",
       "      <td>200.000000</td>\n",
       "      <td>200.000000</td>\n",
       "      <td>200.000000</td>\n",
       "      <td>200.000000</td>\n",
       "      <td>200.0</td>\n",
       "    </tr>\n",
       "    <tr>\n",
       "      <th>mean</th>\n",
       "      <td>59.071768</td>\n",
       "      <td>60.780000</td>\n",
       "      <td>98.697205</td>\n",
       "      <td>101.500000</td>\n",
       "      <td>56.917900</td>\n",
       "      <td>101.0</td>\n",
       "    </tr>\n",
       "    <tr>\n",
       "      <th>std</th>\n",
       "      <td>5.299489</td>\n",
       "      <td>3.054217</td>\n",
       "      <td>12.948203</td>\n",
       "      <td>57.879185</td>\n",
       "      <td>3.285566</td>\n",
       "      <td>0.0</td>\n",
       "    </tr>\n",
       "    <tr>\n",
       "      <th>min</th>\n",
       "      <td>45.185855</td>\n",
       "      <td>53.000000</td>\n",
       "      <td>64.974322</td>\n",
       "      <td>2.000000</td>\n",
       "      <td>47.571958</td>\n",
       "      <td>101.0</td>\n",
       "    </tr>\n",
       "    <tr>\n",
       "      <th>25%</th>\n",
       "      <td>54.999334</td>\n",
       "      <td>59.000000</td>\n",
       "      <td>89.454896</td>\n",
       "      <td>51.750000</td>\n",
       "      <td>54.423356</td>\n",
       "      <td>101.0</td>\n",
       "    </tr>\n",
       "    <tr>\n",
       "      <th>50%</th>\n",
       "      <td>59.015459</td>\n",
       "      <td>61.000000</td>\n",
       "      <td>98.254762</td>\n",
       "      <td>101.500000</td>\n",
       "      <td>56.950706</td>\n",
       "      <td>101.0</td>\n",
       "    </tr>\n",
       "    <tr>\n",
       "      <th>75%</th>\n",
       "      <td>62.613485</td>\n",
       "      <td>63.000000</td>\n",
       "      <td>108.016309</td>\n",
       "      <td>151.250000</td>\n",
       "      <td>59.303826</td>\n",
       "      <td>101.0</td>\n",
       "    </tr>\n",
       "    <tr>\n",
       "      <th>max</th>\n",
       "      <td>73.991925</td>\n",
       "      <td>68.000000</td>\n",
       "      <td>138.973145</td>\n",
       "      <td>201.000000</td>\n",
       "      <td>63.764033</td>\n",
       "      <td>101.0</td>\n",
       "    </tr>\n",
       "  </tbody>\n",
       "</table>\n",
       "</div>"
      ],
      "text/plain": [
       "         avg_rank  num_events         r_2        seed       top_1  \\\n",
       "count  200.000000  200.000000  200.000000  200.000000  200.000000   \n",
       "mean    59.071768   60.780000   98.697205  101.500000   56.917900   \n",
       "std      5.299489    3.054217   12.948203   57.879185    3.285566   \n",
       "min     45.185855   53.000000   64.974322    2.000000   47.571958   \n",
       "25%     54.999334   59.000000   89.454896   51.750000   54.423356   \n",
       "50%     59.015459   61.000000   98.254762  101.500000   56.950706   \n",
       "75%     62.613485   63.000000  108.016309  151.250000   59.303826   \n",
       "max     73.991925   68.000000  138.973145  201.000000   63.764033   \n",
       "\n",
       "       world_events  \n",
       "count         200.0  \n",
       "mean          101.0  \n",
       "std             0.0  \n",
       "min           101.0  \n",
       "25%           101.0  \n",
       "50%           101.0  \n",
       "75%           101.0  \n",
       "max           101.0  "
      ]
     },
     "execution_count": 29,
     "metadata": {},
     "output_type": "execute_result"
    }
   ],
   "source": [
    "opt_perf_df.describe()"
   ]
  },
  {
   "cell_type": "code",
   "execution_count": null,
   "metadata": {},
   "outputs": [],
   "source": []
  },
  {
   "cell_type": "code",
   "execution_count": 30,
   "metadata": {},
   "outputs": [
    {
     "data": {
      "text/html": [
       "<div>\n",
       "<style scoped>\n",
       "    .dataframe tbody tr th:only-of-type {\n",
       "        vertical-align: middle;\n",
       "    }\n",
       "\n",
       "    .dataframe tbody tr th {\n",
       "        vertical-align: top;\n",
       "    }\n",
       "\n",
       "    .dataframe thead th {\n",
       "        text-align: right;\n",
       "    }\n",
       "</style>\n",
       "<table border=\"1\" class=\"dataframe\">\n",
       "  <thead>\n",
       "    <tr style=\"text-align: right;\">\n",
       "      <th></th>\n",
       "      <th>avg_rank</th>\n",
       "      <th>num_events</th>\n",
       "      <th>r_2</th>\n",
       "      <th>seed</th>\n",
       "      <th>top_1</th>\n",
       "      <th>world_events</th>\n",
       "    </tr>\n",
       "  </thead>\n",
       "  <tbody>\n",
       "    <tr>\n",
       "      <th>count</th>\n",
       "      <td>200.000000</td>\n",
       "      <td>200.000000</td>\n",
       "      <td>200.000000</td>\n",
       "      <td>200.000000</td>\n",
       "      <td>200.000000</td>\n",
       "      <td>200.0</td>\n",
       "    </tr>\n",
       "    <tr>\n",
       "      <th>mean</th>\n",
       "      <td>67.475319</td>\n",
       "      <td>62.020000</td>\n",
       "      <td>144.964624</td>\n",
       "      <td>101.500000</td>\n",
       "      <td>57.592723</td>\n",
       "      <td>101.0</td>\n",
       "    </tr>\n",
       "    <tr>\n",
       "      <th>std</th>\n",
       "      <td>9.407538</td>\n",
       "      <td>3.586631</td>\n",
       "      <td>39.954203</td>\n",
       "      <td>57.879185</td>\n",
       "      <td>3.651869</td>\n",
       "      <td>0.0</td>\n",
       "    </tr>\n",
       "    <tr>\n",
       "      <th>min</th>\n",
       "      <td>48.399956</td>\n",
       "      <td>52.000000</td>\n",
       "      <td>78.293115</td>\n",
       "      <td>2.000000</td>\n",
       "      <td>44.503015</td>\n",
       "      <td>101.0</td>\n",
       "    </tr>\n",
       "    <tr>\n",
       "      <th>25%</th>\n",
       "      <td>60.855162</td>\n",
       "      <td>59.000000</td>\n",
       "      <td>117.320903</td>\n",
       "      <td>51.750000</td>\n",
       "      <td>55.326143</td>\n",
       "      <td>101.0</td>\n",
       "    </tr>\n",
       "    <tr>\n",
       "      <th>50%</th>\n",
       "      <td>67.426350</td>\n",
       "      <td>62.000000</td>\n",
       "      <td>139.049889</td>\n",
       "      <td>101.500000</td>\n",
       "      <td>57.495456</td>\n",
       "      <td>101.0</td>\n",
       "    </tr>\n",
       "    <tr>\n",
       "      <th>75%</th>\n",
       "      <td>72.232243</td>\n",
       "      <td>65.000000</td>\n",
       "      <td>163.802688</td>\n",
       "      <td>151.250000</td>\n",
       "      <td>60.215947</td>\n",
       "      <td>101.0</td>\n",
       "    </tr>\n",
       "    <tr>\n",
       "      <th>max</th>\n",
       "      <td>107.862534</td>\n",
       "      <td>72.000000</td>\n",
       "      <td>302.744919</td>\n",
       "      <td>201.000000</td>\n",
       "      <td>67.202387</td>\n",
       "      <td>101.0</td>\n",
       "    </tr>\n",
       "  </tbody>\n",
       "</table>\n",
       "</div>"
      ],
      "text/plain": [
       "         avg_rank  num_events         r_2        seed       top_1  \\\n",
       "count  200.000000  200.000000  200.000000  200.000000  200.000000   \n",
       "mean    67.475319   62.020000  144.964624  101.500000   57.592723   \n",
       "std      9.407538    3.586631   39.954203   57.879185    3.651869   \n",
       "min     48.399956   52.000000   78.293115    2.000000   44.503015   \n",
       "25%     60.855162   59.000000  117.320903   51.750000   55.326143   \n",
       "50%     67.426350   62.000000  139.049889  101.500000   57.495456   \n",
       "75%     72.232243   65.000000  163.802688  151.250000   60.215947   \n",
       "max    107.862534   72.000000  302.744919  201.000000   67.202387   \n",
       "\n",
       "       world_events  \n",
       "count         200.0  \n",
       "mean          101.0  \n",
       "std             0.0  \n",
       "min           101.0  \n",
       "25%           101.0  \n",
       "50%           101.0  \n",
       "75%           101.0  \n",
       "max           101.0  "
      ]
     },
     "execution_count": 30,
     "metadata": {},
     "output_type": "execute_result"
    }
   ],
   "source": [
    "smart_perf_df.describe()"
   ]
  },
  {
   "cell_type": "code",
   "execution_count": null,
   "metadata": {},
   "outputs": [],
   "source": []
  },
  {
   "cell_type": "code",
   "execution_count": null,
   "metadata": {},
   "outputs": [],
   "source": []
  },
  {
   "cell_type": "code",
   "execution_count": null,
   "metadata": {},
   "outputs": [],
   "source": []
  },
  {
   "cell_type": "code",
   "execution_count": null,
   "metadata": {},
   "outputs": [],
   "source": []
  },
  {
   "cell_type": "code",
   "execution_count": null,
   "metadata": {},
   "outputs": [],
   "source": []
  },
  {
   "cell_type": "code",
   "execution_count": null,
   "metadata": {},
   "outputs": [],
   "source": []
  },
  {
   "cell_type": "code",
   "execution_count": null,
   "metadata": {},
   "outputs": [],
   "source": []
  },
  {
   "cell_type": "code",
   "execution_count": null,
   "metadata": {},
   "outputs": [],
   "source": []
  },
  {
   "cell_type": "code",
   "execution_count": null,
   "metadata": {},
   "outputs": [],
   "source": []
  }
 ],
 "metadata": {
  "kernelspec": {
   "display_name": "Python 3",
   "language": "python",
   "name": "python3"
  },
  "language_info": {
   "codemirror_mode": {
    "name": "ipython",
    "version": 3
   },
   "file_extension": ".py",
   "mimetype": "text/x-python",
   "name": "python",
   "nbconvert_exporter": "python",
   "pygments_lexer": "ipython3",
   "version": "3.7.0"
  }
 },
 "nbformat": 4,
 "nbformat_minor": 1
}
